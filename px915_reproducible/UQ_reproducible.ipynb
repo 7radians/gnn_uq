{
 "cells": [
  {
   "cell_type": "markdown",
   "id": "87292ad7",
   "metadata": {},
   "source": [
    "## Quantifying uncertainty in the MACE model: bootstrapping and deep ensembles. \n",
    "\n",
    "\n",
    "You are offered to validate the results obtained previously, outlined in \"Strategies of uncertainty quantification for graph-neural-network-based interatomic potentials\" by M. Radova. The report contains details about the dataset, MACE architecture, computational details and information on the chosen UQ strategies, which are deep ensembles and bootstrapped ensembles. It is recommended to read the report to understand the background of the offered task. \n",
    "For this task, you are not required to train any models, as it would require ~24h, if the 10 ensemble members are trained simultaneously. \n",
    "\n",
    "You are provided with 2 pre-trained ensembles, which you have to evaluate and write the predicted structures into \"x_predictions.npz\" files. \n",
    "For both deep and bootstrapped ensembles, the hyperparameters stated in the report were used, apart from the list of random seeds for deep ensembles, which was regenerated, and is as follows: split1: 321, split2: 5667, split3: 33390, split4: 43, split5: 999.\n",
    "\n",
    "For the bootstrapped ensemble, test/train/validation splits were regenerated, to ensure the difference to the original bootstrapped ensemble. Importantly, the boostrapped ensemble is trained on the same random seed, which is a default 123. \n",
    "\n",
    "To obtain the standard deviations on the data, for each data point, predictions are extracted from each ensemble member, and the mean and variance are calculated. "
   ]
  },
  {
   "cell_type": "markdown",
   "id": "1d786c92",
   "metadata": {},
   "source": [
    "### 1. Install MACE on your SCRTP machine\n",
    "\n",
    "**Load modules:**\n",
    "\n",
    "module purge\n",
    "\n",
    "module load GCC OpenMPI torchvision/0.13.1-CUDA-11.7.0\n",
    "\n",
    "**Create a virtual environment for MACE:**\n",
    "\n",
    "python3 -m venv ~/maceenv\n",
    "\n",
    "source ~/maceenv/bin/activate\n",
    "\n",
    "**Clone repository and install from folder:**\n",
    "\n",
    "git clone --recursive https://github.com/ACEsuit/mace.git\n",
    "\n",
    "pip install ./mace\n",
    "\n",
    "\n"
   ]
  },
  {
   "cell_type": "markdown",
   "id": "7362458a",
   "metadata": {},
   "source": [
    "### 2. Clone the repository into your SCRTP machine\n",
    "git clone  https://github.com/7radians/gnn_uq.git\n",
    "\n",
    "Run this notebook from an SCRTP CPU node. Typing \"jupyter notebook\" should be enough, if Jupyter is installed. "
   ]
  },
  {
   "cell_type": "markdown",
   "id": "43aee828",
   "metadata": {},
   "source": [
    "### 3. Evaluate the models"
   ]
  },
  {
   "cell_type": "code",
   "execution_count": 1,
   "id": "7fdbb262",
   "metadata": {},
   "outputs": [],
   "source": [
    "import numpy as np\n",
    "import matplotlib.pyplot as plt\n",
    "import seaborn as sns\n",
    "from colorama import Fore\n",
    "\n",
    "from ase.io import write, read\n",
    "from ase import Atoms\n",
    "from mace.calculators import MACECalculator\n",
    "import warnings\n",
    "warnings.filterwarnings(\"ignore\", category=np.VisibleDeprecationWarning) "
   ]
  },
  {
   "cell_type": "code",
   "execution_count": 4,
   "id": "a1bd99ba",
   "metadata": {},
   "outputs": [],
   "source": [
    "#Write model predictions for the bootstrapped ensemble\n",
    "options = ['b1', 'b2', 'b3', 'b4', 'b5' ] \n",
    "folder = 'b'\n",
    "for i, option in enumerate(options):\n",
    "    energy_pred = []\n",
    "    forces_pred = []\n",
    "\n",
    "    db = read(f'{folder}/{folder}_eval.xyz@:') # read db with test dataset\n",
    "        \n",
    "    calculator = MACECalculator(model_path=f'{folder}/MACE_model_{option}.model', device='cpu')\n",
    "\n",
    "    for atoms in db:\n",
    "    \n",
    "        cur_atom = Atoms(atoms.symbols, positions=atoms.positions, cell=atoms.cell, pbc=atoms.pbc)\n",
    "        cur_atom.set_calculator(calculator)\n",
    "        energy_pred.append(cur_atom.get_potential_energy())\n",
    "        forces_pred.append(cur_atom.get_forces()[18:])\n",
    "\n",
    "    np.savez(f'{folder}/{option}_predictions.npz',energy=energy_pred,forces=forces_pred)\n"
   ]
  },
  {
   "cell_type": "code",
   "execution_count": 7,
   "id": "40950930",
   "metadata": {},
   "outputs": [],
   "source": [
    "#Write model predictions for the deep ensemble\n",
    "options = ['f1', 'f2', 'f3', 'f4', 'f5' ] \n",
    "folder = 'f'\n",
    "for i, option in enumerate(options):\n",
    "\n",
    "    energy_pred = []\n",
    "    forces_pred = []\n",
    "\n",
    "    db = read(f'{folder}/f_eval.xyz@:') # read db with test dataset\n",
    "        \n",
    "    calculator = MACECalculator(model_path=f'{folder}/MACE_model_{option}.model', device='cpu')\n",
    "\n",
    "    for atoms in db:\n",
    "        cur_atom = Atoms(atoms.symbols, positions=atoms.positions, cell=atoms.cell, pbc=atoms.pbc)\n",
    "        cur_atom.set_calculator(calculator)\n",
    "        energy_pred.append(cur_atom.get_potential_energy())\n",
    "        forces_pred.append(cur_atom.get_forces()[18:])\n",
    "\n",
    "    np.savez(f'{folder}/{option}_predictions.npz',energy=energy_pred,forces=forces_pred)"
   ]
  },
  {
   "cell_type": "markdown",
   "id": "faec9a39",
   "metadata": {},
   "source": [
    "### 4. Perform the UQ"
   ]
  },
  {
   "cell_type": "code",
   "execution_count": 8,
   "id": "0b023bc1",
   "metadata": {},
   "outputs": [
    {
     "name": "stdout",
     "output_type": "stream",
     "text": [
      "Mean σ, eV : 0.005910500328955989\n"
     ]
    }
   ],
   "source": [
    "#Bootstraps UQ\n",
    "\n",
    "option = 'b'\n",
    "property_str = 'energy'\n",
    "\n",
    "prediction1 = np.load(f'{option}/b1_predictions.npz',allow_pickle=True)[property_str].tolist()\n",
    "prediction2 = np.load(f'{option}/b2_predictions.npz',allow_pickle=True)[property_str].tolist()\n",
    "prediction3 = np.load(f'{option}/b3_predictions.npz',allow_pickle=True)[property_str].tolist()\n",
    "prediction4 = np.load(f'{option}/b4_predictions.npz',allow_pickle=True)[property_str].tolist()\n",
    "prediction5 = np.load(f'{option}/b5_predictions.npz',allow_pickle=True)[property_str].tolist()\n",
    "\n",
    "num = 5\n",
    "length = len(prediction1)\n",
    "mean_energies = np.zeros(length)\n",
    "e_squared_diffs = np.zeros((length, num))\n",
    "e_variances = np.zeros(length)\n",
    "e_std = np.zeros(length)\n",
    "\n",
    "\n",
    "pred1 = np.zeros(length)\n",
    "pred2 = np.zeros(length)\n",
    "pred3 = np.zeros(length)\n",
    "pred4 = np.zeros(length)\n",
    "pred5 = np.zeros(length)\n",
    "\n",
    "if property_str=='energy':\n",
    "    pm1 = min(prediction1)\n",
    "    pm2 = min(prediction2)\n",
    "    pm3 = min(prediction3)\n",
    "    pm4 = min(prediction4)\n",
    "    pm5 = min(prediction5)\n",
    "    for i in range(length):\n",
    "        pred1[i] = prediction1[i] - pm1\n",
    "        pred2[i] = prediction2[i] - pm2\n",
    "        pred3[i] = prediction3[i] - pm3\n",
    "        pred4[i] = prediction4[i] - pm4\n",
    "        pred5[i] = prediction5[i] - pm5\n",
    "        \n",
    "    \n",
    "if property_str=='energy':\n",
    "    for i in range(length):\n",
    "           preds = np.array([float(pred1[i]), float(pred2[i]), float(pred3[i]), float(pred4[i]), float(pred5[i])]) \n",
    "           mean_energies[i] = np.mean(preds, dtype=np.float64)\n",
    "        \n",
    "  \n",
    "if property_str=='energy':\n",
    "    for i in range(length):\n",
    "           j=0\n",
    "           for pred in [pred1, pred2, pred3, pred4, pred5]:\n",
    "               e_squared_diffs[i,j] = (pred[i] - mean_energies[i])**2\n",
    "               j=j+1\n",
    "           e_variances[i] = np.mean(e_squared_diffs[i,:], axis=0)\n",
    "           e_std[i] = np.sqrt(e_variances[i])\n",
    "\n",
    "#Uncomment to see the distribution\n",
    "#sns.histplot(e_std,stat=\"probability\")\n",
    "#plt.xlabel('σ / eV')\n",
    "#plt.ylabel('Probability')\n",
    "#plt.title('UQ of energy prediction - bootstrapping')\n",
    "#plt.grid(True)\n",
    "#plt.savefig('e_uq_b.png')\n",
    "\n",
    "b_std = np.mean(e_std)\n",
    "\n",
    "print(\"Mean σ, eV :\", b_std)\n"
   ]
  },
  {
   "cell_type": "code",
   "execution_count": 9,
   "id": "7560c8f9",
   "metadata": {},
   "outputs": [
    {
     "name": "stdout",
     "output_type": "stream",
     "text": [
      "Mean σ, eV : 0.009562758513155504\n"
     ]
    }
   ],
   "source": [
    "#Deep ensembles UQ\n",
    "\n",
    "\n",
    "option = 'f'\n",
    "property_str = 'energy'\n",
    "\n",
    "prediction1 = np.load(f'{option}/f1_predictions.npz',allow_pickle=True)[property_str].tolist()\n",
    "prediction2 = np.load(f'{option}/f2_predictions.npz',allow_pickle=True)[property_str].tolist()\n",
    "prediction3 = np.load(f'{option}/f3_predictions.npz',allow_pickle=True)[property_str].tolist()\n",
    "prediction4 = np.load(f'{option}/f4_predictions.npz',allow_pickle=True)[property_str].tolist()\n",
    "prediction5 = np.load(f'{option}/f5_predictions.npz',allow_pickle=True)[property_str].tolist()\n",
    "\n",
    "num = 5\n",
    "length = len(prediction1)\n",
    "mean_energies = np.zeros(length)\n",
    "e_squared_diffs = np.zeros((length, num))\n",
    "e_variances = np.zeros(length)\n",
    "e_std = np.zeros(length)\n",
    "\n",
    "\n",
    "pred1 = np.zeros(length)\n",
    "pred2 = np.zeros(length)\n",
    "pred3 = np.zeros(length)\n",
    "pred4 = np.zeros(length)\n",
    "pred5 = np.zeros(length)\n",
    "\n",
    "if property_str=='energy':\n",
    "    pm1 = min(prediction1)\n",
    "    pm2 = min(prediction2)\n",
    "    pm3 = min(prediction3)\n",
    "    pm4 = min(prediction4)\n",
    "    pm5 = min(prediction5)\n",
    "    for i in range(length):\n",
    "        pred1[i] = prediction1[i] - pm1\n",
    "        pred2[i] = prediction2[i] - pm2\n",
    "        pred3[i] = prediction3[i] - pm3\n",
    "        pred4[i] = prediction4[i] - pm4\n",
    "        pred5[i] = prediction5[i] - pm5\n",
    "        \n",
    "    \n",
    "if property_str=='energy':\n",
    "    for i in range(length):\n",
    "           preds = np.array([float(pred1[i]), float(pred2[i]), float(pred3[i]), float(pred4[i]), float(pred5[i])]) \n",
    "           mean_energies[i] = np.mean(preds, dtype=np.float64)\n",
    "        \n",
    "  \n",
    "if property_str=='energy':\n",
    "    for i in range(length):\n",
    "           j=0\n",
    "           for pred in [pred1, pred2, pred3, pred4, pred5]:\n",
    "               e_squared_diffs[i,j] = (pred[i] - mean_energies[i])**2\n",
    "               j=j+1\n",
    "           e_variances[i] = np.mean(e_squared_diffs[i,:], axis=0)\n",
    "           e_std[i] = np.sqrt(e_variances[i])\n",
    "\n",
    "#Uncomment to see the distribution\n",
    "#sns.histplot(e_std,stat=\"probability\")\n",
    "#plt.xlabel('σ / eV')\n",
    "#plt.ylabel('Probability')\n",
    "#plt.title('UQ of energy prediction - deep ensembles')\n",
    "#plt.grid(True)\n",
    "#plt.savefig('e_uq_f.png')\n",
    "\n",
    "f_std = np.mean(e_std)\n",
    "\n",
    "print(\"Mean σ, eV :\", f_std)"
   ]
  },
  {
   "cell_type": "markdown",
   "id": "44b36189",
   "metadata": {},
   "source": [
    "### 5. Compare the results with the report "
   ]
  },
  {
   "cell_type": "code",
   "execution_count": 10,
   "id": "539a7dba",
   "metadata": {},
   "outputs": [
    {
     "name": "stdout",
     "output_type": "stream",
     "text": [
      "\u001b[34mReported results:\n",
      "\u001b[30mMean σ, eV for the bootstrapped ensemble: 0.005487420202870646\n",
      "\u001b[30mMean σ, eV for the deep ensemble: 0.009678556148518234\n",
      "\u001b[31mYour results:\n",
      "\u001b[30mMean σ, eV for the bootstrapped ensemble: 0.005910500328955989\n",
      "\u001b[30mMean σ, eV for the deep ensemble: 0.009562758513155504\n"
     ]
    }
   ],
   "source": [
    "print(Fore.BLUE + 'Reported results:')\n",
    "print(Fore.BLACK + 'Mean σ, eV for the bootstrapped ensemble:',  0.005487420202870646)\n",
    "print(Fore.BLACK  + 'Mean σ, eV for the deep ensemble:',  0.009678556148518234)\n",
    "\n",
    "print(Fore.RED + 'Your results:')\n",
    "print(Fore.BLACK + 'Mean σ, eV for the bootstrapped ensemble:',  b_std)\n",
    "print(Fore.BLACK  + 'Mean σ, eV for the deep ensemble:',  f_std)\n"
   ]
  },
  {
   "cell_type": "code",
   "execution_count": null,
   "id": "0d124d1b",
   "metadata": {},
   "outputs": [],
   "source": []
  }
 ],
 "metadata": {
  "kernelspec": {
   "display_name": "Python 3 (ipykernel)",
   "language": "python",
   "name": "python3"
  },
  "language_info": {
   "codemirror_mode": {
    "name": "ipython",
    "version": 3
   },
   "file_extension": ".py",
   "mimetype": "text/x-python",
   "name": "python",
   "nbconvert_exporter": "python",
   "pygments_lexer": "ipython3",
   "version": "3.10.9"
  }
 },
 "nbformat": 4,
 "nbformat_minor": 5
}
